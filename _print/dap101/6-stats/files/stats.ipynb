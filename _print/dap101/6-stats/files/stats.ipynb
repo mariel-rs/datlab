{
 "cells": [
  {
   "cell_type": "markdown",
   "metadata": {},
   "source": [
    "# Analisis estadistico"
   ]
  },
  {
   "cell_type": "code",
   "execution_count": 1,
   "metadata": {},
   "outputs": [],
   "source": [
    "import pandas as pd\n",
    "import scipy.stats as stats\n",
    "import matplotlib.pyplot as plt\n",
    "import seaborn as sns"
   ]
  },
  {
   "cell_type": "code",
   "execution_count": 2,
   "metadata": {},
   "outputs": [],
   "source": [
    "plt.rcParams[\"figure.figsize\"] = (10,8)"
   ]
  },
  {
   "cell_type": "markdown",
   "metadata": {},
   "source": [
    "## Datos"
   ]
  },
  {
   "cell_type": "code",
   "execution_count": 4,
   "metadata": {},
   "outputs": [],
   "source": [
    "# Datos precipitacion\n",
    "precipitacion = pd.read_csv(\"precipitacion_guerrero.csv\", thousands = \",\")"
   ]
  },
  {
   "cell_type": "code",
   "execution_count": 6,
   "metadata": {},
   "outputs": [
    {
     "data": {
      "text/html": [
       "<div>\n",
       "<style scoped>\n",
       "    .dataframe tbody tr th:only-of-type {\n",
       "        vertical-align: middle;\n",
       "    }\n",
       "\n",
       "    .dataframe tbody tr th {\n",
       "        vertical-align: top;\n",
       "    }\n",
       "\n",
       "    .dataframe thead th {\n",
       "        text-align: right;\n",
       "    }\n",
       "</style>\n",
       "<table border=\"1\" class=\"dataframe\">\n",
       "  <thead>\n",
       "    <tr style=\"text-align: right;\">\n",
       "      <th></th>\n",
       "      <th>PERIODO</th>\n",
       "      <th>ENE</th>\n",
       "      <th>FEB</th>\n",
       "      <th>MAR</th>\n",
       "      <th>ABR</th>\n",
       "      <th>MAY</th>\n",
       "      <th>JUN</th>\n",
       "      <th>JUL</th>\n",
       "      <th>AGO</th>\n",
       "      <th>SEP</th>\n",
       "      <th>OCT</th>\n",
       "      <th>NOV</th>\n",
       "      <th>DIC</th>\n",
       "      <th>ANUAL</th>\n",
       "    </tr>\n",
       "  </thead>\n",
       "  <tbody>\n",
       "    <tr>\n",
       "      <th>count</th>\n",
       "      <td>36.000000</td>\n",
       "      <td>36.000000</td>\n",
       "      <td>36.00000</td>\n",
       "      <td>36.000000</td>\n",
       "      <td>36.000000</td>\n",
       "      <td>36.000000</td>\n",
       "      <td>36.000000</td>\n",
       "      <td>36.000000</td>\n",
       "      <td>36.000000</td>\n",
       "      <td>36.000000</td>\n",
       "      <td>36.000000</td>\n",
       "      <td>36.000000</td>\n",
       "      <td>36.000000</td>\n",
       "      <td>36.000000</td>\n",
       "    </tr>\n",
       "    <tr>\n",
       "      <th>mean</th>\n",
       "      <td>2002.500000</td>\n",
       "      <td>6.905556</td>\n",
       "      <td>5.40000</td>\n",
       "      <td>5.094444</td>\n",
       "      <td>5.566667</td>\n",
       "      <td>45.238889</td>\n",
       "      <td>192.758333</td>\n",
       "      <td>198.302778</td>\n",
       "      <td>225.380556</td>\n",
       "      <td>241.441667</td>\n",
       "      <td>110.963889</td>\n",
       "      <td>19.000000</td>\n",
       "      <td>4.958333</td>\n",
       "      <td>1061.024444</td>\n",
       "    </tr>\n",
       "    <tr>\n",
       "      <th>std</th>\n",
       "      <td>10.535654</td>\n",
       "      <td>12.490521</td>\n",
       "      <td>19.28182</td>\n",
       "      <td>11.323829</td>\n",
       "      <td>4.477053</td>\n",
       "      <td>31.195387</td>\n",
       "      <td>56.757214</td>\n",
       "      <td>61.910869</td>\n",
       "      <td>84.050107</td>\n",
       "      <td>76.467724</td>\n",
       "      <td>53.671281</td>\n",
       "      <td>22.491725</td>\n",
       "      <td>8.813735</td>\n",
       "      <td>168.236807</td>\n",
       "    </tr>\n",
       "    <tr>\n",
       "      <th>min</th>\n",
       "      <td>1985.000000</td>\n",
       "      <td>0.000000</td>\n",
       "      <td>0.00000</td>\n",
       "      <td>0.000000</td>\n",
       "      <td>0.000000</td>\n",
       "      <td>2.600000</td>\n",
       "      <td>68.600000</td>\n",
       "      <td>93.700000</td>\n",
       "      <td>104.900000</td>\n",
       "      <td>131.900000</td>\n",
       "      <td>9.000000</td>\n",
       "      <td>0.600000</td>\n",
       "      <td>0.000000</td>\n",
       "      <td>698.200000</td>\n",
       "    </tr>\n",
       "    <tr>\n",
       "      <th>25%</th>\n",
       "      <td>1993.750000</td>\n",
       "      <td>0.300000</td>\n",
       "      <td>0.00000</td>\n",
       "      <td>0.350000</td>\n",
       "      <td>2.000000</td>\n",
       "      <td>20.625000</td>\n",
       "      <td>154.975000</td>\n",
       "      <td>152.400000</td>\n",
       "      <td>167.150000</td>\n",
       "      <td>196.175000</td>\n",
       "      <td>65.950000</td>\n",
       "      <td>4.450000</td>\n",
       "      <td>0.300000</td>\n",
       "      <td>954.325000</td>\n",
       "    </tr>\n",
       "    <tr>\n",
       "      <th>50%</th>\n",
       "      <td>2002.500000</td>\n",
       "      <td>1.300000</td>\n",
       "      <td>0.35000</td>\n",
       "      <td>1.200000</td>\n",
       "      <td>4.600000</td>\n",
       "      <td>40.900000</td>\n",
       "      <td>191.000000</td>\n",
       "      <td>183.600000</td>\n",
       "      <td>219.400000</td>\n",
       "      <td>232.850000</td>\n",
       "      <td>124.450000</td>\n",
       "      <td>13.100000</td>\n",
       "      <td>0.900000</td>\n",
       "      <td>1043.490000</td>\n",
       "    </tr>\n",
       "    <tr>\n",
       "      <th>75%</th>\n",
       "      <td>2011.250000</td>\n",
       "      <td>6.325000</td>\n",
       "      <td>2.85000</td>\n",
       "      <td>3.500000</td>\n",
       "      <td>8.875000</td>\n",
       "      <td>61.200000</td>\n",
       "      <td>226.650000</td>\n",
       "      <td>241.950000</td>\n",
       "      <td>247.525000</td>\n",
       "      <td>268.150000</td>\n",
       "      <td>142.225000</td>\n",
       "      <td>28.125000</td>\n",
       "      <td>5.350000</td>\n",
       "      <td>1169.125000</td>\n",
       "    </tr>\n",
       "    <tr>\n",
       "      <th>max</th>\n",
       "      <td>2020.000000</td>\n",
       "      <td>47.600000</td>\n",
       "      <td>113.90000</td>\n",
       "      <td>52.500000</td>\n",
       "      <td>16.400000</td>\n",
       "      <td>134.100000</td>\n",
       "      <td>334.500000</td>\n",
       "      <td>318.400000</td>\n",
       "      <td>518.200000</td>\n",
       "      <td>535.200000</td>\n",
       "      <td>194.900000</td>\n",
       "      <td>123.100000</td>\n",
       "      <td>46.000000</td>\n",
       "      <td>1521.000000</td>\n",
       "    </tr>\n",
       "  </tbody>\n",
       "</table>\n",
       "</div>"
      ],
      "text/plain": [
       "           PERIODO        ENE        FEB        MAR        ABR         MAY  \\\n",
       "count    36.000000  36.000000   36.00000  36.000000  36.000000   36.000000   \n",
       "mean   2002.500000   6.905556    5.40000   5.094444   5.566667   45.238889   \n",
       "std      10.535654  12.490521   19.28182  11.323829   4.477053   31.195387   \n",
       "min    1985.000000   0.000000    0.00000   0.000000   0.000000    2.600000   \n",
       "25%    1993.750000   0.300000    0.00000   0.350000   2.000000   20.625000   \n",
       "50%    2002.500000   1.300000    0.35000   1.200000   4.600000   40.900000   \n",
       "75%    2011.250000   6.325000    2.85000   3.500000   8.875000   61.200000   \n",
       "max    2020.000000  47.600000  113.90000  52.500000  16.400000  134.100000   \n",
       "\n",
       "              JUN         JUL         AGO         SEP         OCT         NOV  \\\n",
       "count   36.000000   36.000000   36.000000   36.000000   36.000000   36.000000   \n",
       "mean   192.758333  198.302778  225.380556  241.441667  110.963889   19.000000   \n",
       "std     56.757214   61.910869   84.050107   76.467724   53.671281   22.491725   \n",
       "min     68.600000   93.700000  104.900000  131.900000    9.000000    0.600000   \n",
       "25%    154.975000  152.400000  167.150000  196.175000   65.950000    4.450000   \n",
       "50%    191.000000  183.600000  219.400000  232.850000  124.450000   13.100000   \n",
       "75%    226.650000  241.950000  247.525000  268.150000  142.225000   28.125000   \n",
       "max    334.500000  318.400000  518.200000  535.200000  194.900000  123.100000   \n",
       "\n",
       "             DIC        ANUAL  \n",
       "count  36.000000    36.000000  \n",
       "mean    4.958333  1061.024444  \n",
       "std     8.813735   168.236807  \n",
       "min     0.000000   698.200000  \n",
       "25%     0.300000   954.325000  \n",
       "50%     0.900000  1043.490000  \n",
       "75%     5.350000  1169.125000  \n",
       "max    46.000000  1521.000000  "
      ]
     },
     "execution_count": 6,
     "metadata": {},
     "output_type": "execute_result"
    }
   ],
   "source": [
    "# Estadistica descriptiva\n",
    "precipitacion.describe()"
   ]
  },
  {
   "cell_type": "markdown",
   "metadata": {},
   "source": [
    "## Prueba de normalidad"
   ]
  },
  {
   "cell_type": "code",
   "execution_count": 7,
   "metadata": {},
   "outputs": [],
   "source": [
    "def normal_test(datos, option = \"shapiro\"):\n",
    "\n",
    "    if option != \"shapiro\":\n",
    "        test = stats.normaltest(datos)\n",
    "    else:\n",
    "        test = stats.shapiro(datos)\n",
    "\n",
    "    if test.pvalue < 0.05 :\n",
    "        print(\"Rechazar hipotesis nula\")\n",
    "    else:\n",
    "        print(\"No hay evidencia suficiente para rechazar hipotesis nula\")\n",
    "    \n",
    "    print(test)\n"
   ]
  },
  {
   "cell_type": "code",
   "execution_count": 8,
   "metadata": {},
   "outputs": [
    {
     "name": "stdout",
     "output_type": "stream",
     "text": [
      "No hay evidencia suficiente para rechazar hipotesis nula\n",
      "NormaltestResult(statistic=3.1786195840173925, pvalue=0.2040664114060036)\n"
     ]
    }
   ],
   "source": [
    "normal_test(precipitacion[\"JUL\"], \"dagostino\")"
   ]
  },
  {
   "cell_type": "code",
   "execution_count": 9,
   "metadata": {},
   "outputs": [
    {
     "data": {
      "text/plain": [
       "<AxesSubplot:xlabel='JUL', ylabel='Count'>"
      ]
     },
     "execution_count": 9,
     "metadata": {},
     "output_type": "execute_result"
    },
    {
     "data": {
      "image/png": "[encoded data removed]",
      "text/plain": [
       "<Figure size 720x576 with 1 Axes>"
      ]
     },
     "metadata": {
      "needs_background": "light"
     },
     "output_type": "display_data"
    }
   ],
   "source": [
    "sns.histplot(precipitacion[\"JUL\"])"
   ]
  },
  {
   "cell_type": "markdown",
   "metadata": {},
   "source": [
    "## Pruebas de hipotesis"
   ]
  },
  {
   "cell_type": "markdown",
   "metadata": {},
   "source": [
    "### t-test una muestra"
   ]
  },
  {
   "cell_type": "code",
   "execution_count": 10,
   "metadata": {},
   "outputs": [],
   "source": [
    "def t_test_1samp(datos, media):\n",
    "\n",
    "    test = stats.ttest_1samp(datos, popmean = media)\n",
    "\n",
    "    if test.pvalue < 0.05:\n",
    "        print(\"Rechazar hipotesis nula\")\n",
    "    else:\n",
    "        print(\"No hay evidencia suficiente para rechazar hipotesis nula\")\n",
    "    print(test)"
   ]
  },
  {
   "cell_type": "code",
   "execution_count": 11,
   "metadata": {},
   "outputs": [
    {
     "name": "stdout",
     "output_type": "stream",
     "text": [
      "Rechazar hipotesis nula\n",
      "Ttest_1sampResult(statistic=4.681192028483727, pvalue=4.186335296904115e-05)\n"
     ]
    }
   ],
   "source": [
    "# Probar si la media de precipitacion en julio es de 150\n",
    "\n",
    "# H_0: La media de precipitacion en julio es 150\n",
    "# H_1: La media de precipitacion en julio no es igual a 150\n",
    "\n",
    "t_test_1samp(precipitacion[\"JUL\"], 150)"
   ]
  },
  {
   "cell_type": "markdown",
   "metadata": {},
   "source": [
    "### t-test 2 muestras independientes"
   ]
  },
  {
   "cell_type": "code",
   "execution_count": 12,
   "metadata": {},
   "outputs": [],
   "source": [
    "def t_test(muestra_a, muestra_b, equal_var):\n",
    "\n",
    "    t_test = stats.ttest_ind(a = muestra_a, b = muestra_b, equal_var= equal_var)\n",
    "\n",
    "    if t_test.pvalue < 0.05:\n",
    "        print(\"Rechazar hipotesis nula\")\n",
    "    else:\n",
    "        print(\"No hay evidencia suficiente para rechazar hipotesis nula\")\n",
    "    print(t_test)"
   ]
  },
  {
   "cell_type": "code",
   "execution_count": 13,
   "metadata": {},
   "outputs": [
    {
     "name": "stdout",
     "output_type": "stream",
     "text": [
      "Rechazar hipotesis nula\n",
      "Ttest_indResult(statistic=-18.182624091950878, pvalue=2.6916485711230398e-20)\n"
     ]
    }
   ],
   "source": [
    "# H_0: La media de precipitacion en enero y julio es igual\n",
    "# H_1: La media de precipitacion en enero y julio no es igual\n",
    "\n",
    "t_test(precipitacion[\"ENE\"], precipitacion[\"JUL\"], False)"
   ]
  },
  {
   "cell_type": "markdown",
   "metadata": {},
   "source": [
    "### t-test 2 muestras pareadas"
   ]
  },
  {
   "cell_type": "code",
   "execution_count": 15,
   "metadata": {},
   "outputs": [],
   "source": [
    "def t_test_dep(muestra_a, muestra_b):\n",
    "\n",
    "    t_test = stats.ttest_rel(a = muestra_a, b = muestra_b)\n",
    "\n",
    "    if t_test.pvalue < 0.05:\n",
    "        print(\"Rechazar hipotesis nula\")\n",
    "    else:\n",
    "        print(\"No hay evidencia suficiente para rechazar hipotesis nula\")\n",
    "    print(t_test)"
   ]
  },
  {
   "cell_type": "code",
   "execution_count": 16,
   "metadata": {},
   "outputs": [],
   "source": [
    "# Obtenemos los valores de precipitacion en julio, y los dividimos en dos piezas\n",
    "julio_85_02 = precipitacion.query('PERIODO <= 2002')[\"JUL\"]\n",
    "julio_03_20 = precipitacion.query('PERIODO >= 2003')[\"JUL\"]"
   ]
  },
  {
   "cell_type": "code",
   "execution_count": 17,
   "metadata": {},
   "outputs": [
    {
     "name": "stdout",
     "output_type": "stream",
     "text": [
      "No hay evidencia suficiente para rechazar hipotesis nula\n",
      "Ttest_relResult(statistic=-0.5227445039981692, pvalue=0.6078983028127907)\n"
     ]
    }
   ],
   "source": [
    "# H0: La diferencia de medias es igual a 0\n",
    "# H1: La diferencia de medias no es igual a 0\n",
    "\n",
    "t_test_dep(julio_85_02, julio_03_20)"
   ]
  },
  {
   "cell_type": "markdown",
   "metadata": {},
   "source": [
    "## Test de Levene (Test de homogeneidad de varianzas)"
   ]
  },
  {
   "cell_type": "code",
   "execution_count": 18,
   "metadata": {},
   "outputs": [],
   "source": [
    "def levene_test(muestra_a, muestra_b, center):\n",
    "\n",
    "    levene_test = stats.levene(muestra_a, muestra_b, center= center)\n",
    "\n",
    "    if levene_test.pvalue < 0.05:\n",
    "        print(\"Rechazar hipotesis nula\")\n",
    "    else:\n",
    "        print(\"No hay evidencia suficiente para rechazar hipotesis nula\")\n",
    "    \n",
    "    print(levene_test)"
   ]
  },
  {
   "cell_type": "code",
   "execution_count": 19,
   "metadata": {},
   "outputs": [
    {
     "name": "stdout",
     "output_type": "stream",
     "text": [
      "Rechazar hipotesis nula\n",
      "LeveneResult(statistic=45.79026387425224, pvalue=3.314444965731039e-09)\n"
     ]
    }
   ],
   "source": [
    "# H0: La varianza de precipitacion en julio es igual a la varianza de precipitacion en diciembre\n",
    "# H1: La varianza de precipitacion en julio no es igual a la varianza de precipitacion en diciembre\n",
    "\n",
    "levene_test(precipitacion[\"JUL\"], precipitacion[\"DIC\"], \"median\")"
   ]
  },
  {
   "cell_type": "markdown",
   "metadata": {},
   "source": [
    "## Regresion lineal"
   ]
  },
  {
   "cell_type": "code",
   "execution_count": 23,
   "metadata": {},
   "outputs": [],
   "source": [
    "from statsmodels.formula.api import ols"
   ]
  },
  {
   "cell_type": "code",
   "execution_count": 21,
   "metadata": {},
   "outputs": [
    {
     "data": {
      "text/html": [
       "<div>\n",
       "<style scoped>\n",
       "    .dataframe tbody tr th:only-of-type {\n",
       "        vertical-align: middle;\n",
       "    }\n",
       "\n",
       "    .dataframe tbody tr th {\n",
       "        vertical-align: top;\n",
       "    }\n",
       "\n",
       "    .dataframe thead th {\n",
       "        text-align: right;\n",
       "    }\n",
       "</style>\n",
       "<table border=\"1\" class=\"dataframe\">\n",
       "  <thead>\n",
       "    <tr style=\"text-align: right;\">\n",
       "      <th></th>\n",
       "      <th>peso</th>\n",
       "      <th>edad</th>\n",
       "      <th>grasas</th>\n",
       "    </tr>\n",
       "  </thead>\n",
       "  <tbody>\n",
       "    <tr>\n",
       "      <th>0</th>\n",
       "      <td>84</td>\n",
       "      <td>46</td>\n",
       "      <td>354</td>\n",
       "    </tr>\n",
       "    <tr>\n",
       "      <th>1</th>\n",
       "      <td>73</td>\n",
       "      <td>20</td>\n",
       "      <td>190</td>\n",
       "    </tr>\n",
       "    <tr>\n",
       "      <th>2</th>\n",
       "      <td>65</td>\n",
       "      <td>52</td>\n",
       "      <td>405</td>\n",
       "    </tr>\n",
       "    <tr>\n",
       "      <th>3</th>\n",
       "      <td>70</td>\n",
       "      <td>30</td>\n",
       "      <td>263</td>\n",
       "    </tr>\n",
       "    <tr>\n",
       "      <th>4</th>\n",
       "      <td>76</td>\n",
       "      <td>57</td>\n",
       "      <td>451</td>\n",
       "    </tr>\n",
       "    <tr>\n",
       "      <th>5</th>\n",
       "      <td>69</td>\n",
       "      <td>25</td>\n",
       "      <td>302</td>\n",
       "    </tr>\n",
       "    <tr>\n",
       "      <th>6</th>\n",
       "      <td>63</td>\n",
       "      <td>28</td>\n",
       "      <td>288</td>\n",
       "    </tr>\n",
       "    <tr>\n",
       "      <th>7</th>\n",
       "      <td>72</td>\n",
       "      <td>36</td>\n",
       "      <td>385</td>\n",
       "    </tr>\n",
       "    <tr>\n",
       "      <th>8</th>\n",
       "      <td>79</td>\n",
       "      <td>57</td>\n",
       "      <td>402</td>\n",
       "    </tr>\n",
       "    <tr>\n",
       "      <th>9</th>\n",
       "      <td>75</td>\n",
       "      <td>44</td>\n",
       "      <td>365</td>\n",
       "    </tr>\n",
       "    <tr>\n",
       "      <th>10</th>\n",
       "      <td>27</td>\n",
       "      <td>24</td>\n",
       "      <td>209</td>\n",
       "    </tr>\n",
       "    <tr>\n",
       "      <th>11</th>\n",
       "      <td>89</td>\n",
       "      <td>31</td>\n",
       "      <td>290</td>\n",
       "    </tr>\n",
       "    <tr>\n",
       "      <th>12</th>\n",
       "      <td>65</td>\n",
       "      <td>52</td>\n",
       "      <td>346</td>\n",
       "    </tr>\n",
       "    <tr>\n",
       "      <th>13</th>\n",
       "      <td>57</td>\n",
       "      <td>23</td>\n",
       "      <td>254</td>\n",
       "    </tr>\n",
       "    <tr>\n",
       "      <th>14</th>\n",
       "      <td>59</td>\n",
       "      <td>60</td>\n",
       "      <td>395</td>\n",
       "    </tr>\n",
       "    <tr>\n",
       "      <th>15</th>\n",
       "      <td>69</td>\n",
       "      <td>48</td>\n",
       "      <td>434</td>\n",
       "    </tr>\n",
       "    <tr>\n",
       "      <th>16</th>\n",
       "      <td>60</td>\n",
       "      <td>34</td>\n",
       "      <td>220</td>\n",
       "    </tr>\n",
       "    <tr>\n",
       "      <th>17</th>\n",
       "      <td>79</td>\n",
       "      <td>51</td>\n",
       "      <td>374</td>\n",
       "    </tr>\n",
       "    <tr>\n",
       "      <th>18</th>\n",
       "      <td>75</td>\n",
       "      <td>50</td>\n",
       "      <td>308</td>\n",
       "    </tr>\n",
       "    <tr>\n",
       "      <th>19</th>\n",
       "      <td>82</td>\n",
       "      <td>34</td>\n",
       "      <td>220</td>\n",
       "    </tr>\n",
       "    <tr>\n",
       "      <th>20</th>\n",
       "      <td>59</td>\n",
       "      <td>46</td>\n",
       "      <td>311</td>\n",
       "    </tr>\n",
       "    <tr>\n",
       "      <th>21</th>\n",
       "      <td>67</td>\n",
       "      <td>23</td>\n",
       "      <td>181</td>\n",
       "    </tr>\n",
       "    <tr>\n",
       "      <th>22</th>\n",
       "      <td>85</td>\n",
       "      <td>37</td>\n",
       "      <td>274</td>\n",
       "    </tr>\n",
       "    <tr>\n",
       "      <th>23</th>\n",
       "      <td>55</td>\n",
       "      <td>40</td>\n",
       "      <td>303</td>\n",
       "    </tr>\n",
       "    <tr>\n",
       "      <th>24</th>\n",
       "      <td>63</td>\n",
       "      <td>30</td>\n",
       "      <td>244</td>\n",
       "    </tr>\n",
       "  </tbody>\n",
       "</table>\n",
       "</div>"
      ],
      "text/plain": [
       "    peso  edad  grasas\n",
       "0     84    46     354\n",
       "1     73    20     190\n",
       "2     65    52     405\n",
       "3     70    30     263\n",
       "4     76    57     451\n",
       "5     69    25     302\n",
       "6     63    28     288\n",
       "7     72    36     385\n",
       "8     79    57     402\n",
       "9     75    44     365\n",
       "10    27    24     209\n",
       "11    89    31     290\n",
       "12    65    52     346\n",
       "13    57    23     254\n",
       "14    59    60     395\n",
       "15    69    48     434\n",
       "16    60    34     220\n",
       "17    79    51     374\n",
       "18    75    50     308\n",
       "19    82    34     220\n",
       "20    59    46     311\n",
       "21    67    23     181\n",
       "22    85    37     274\n",
       "23    55    40     303\n",
       "24    63    30     244"
      ]
     },
     "execution_count": 21,
     "metadata": {},
     "output_type": "execute_result"
    }
   ],
   "source": [
    "# Datos edad peso\n",
    "edad_peso = pd.read_table(\"edadpesograsas.txt\", sep=\"\\t\")\n",
    "edad_peso"
   ]
  },
  {
   "cell_type": "code",
   "execution_count": 27,
   "metadata": {},
   "outputs": [
    {
     "data": {
      "text/plain": [
       "<seaborn.axisgrid.PairGrid at 0x127de49fbe0>"
      ]
     },
     "execution_count": 27,
     "metadata": {},
     "output_type": "execute_result"
    },
    {
     "data": {
      "image/png": "[encoded data removed]",
      "text/plain": [
       "<Figure size 540x540 with 12 Axes>"
      ]
     },
     "metadata": {
      "needs_background": "light"
     },
     "output_type": "display_data"
    }
   ],
   "source": [
    "sns.pairplot(edad_peso)"
   ]
  },
  {
   "cell_type": "code",
   "execution_count": 30,
   "metadata": {},
   "outputs": [
    {
     "data": {
      "text/plain": [
       "<AxesSubplot:xlabel='edad', ylabel='grasas'>"
      ]
     },
     "execution_count": 30,
     "metadata": {},
     "output_type": "execute_result"
    },
    {
     "data": {
      "image/png": "[encoded data removed]",
      "text/plain": [
       "<Figure size 720x576 with 1 Axes>"
      ]
     },
     "metadata": {
      "needs_background": "light"
     },
     "output_type": "display_data"
    }
   ],
   "source": [
    "sns.lineplot(data = edad_peso, x = \"edad\", y = \"grasas\")"
   ]
  },
  {
   "cell_type": "code",
   "execution_count": 24,
   "metadata": {},
   "outputs": [],
   "source": [
    "model = ols('grasas ~ edad', edad_peso).fit()"
   ]
  },
  {
   "cell_type": "code",
   "execution_count": 25,
   "metadata": {},
   "outputs": [
    {
     "data": {
      "text/html": [
       "<table class=\"simpletable\">\n",
       "<caption>OLS Regression Results</caption>\n",
       "<tr>\n",
       "  <th>Dep. Variable:</th>         <td>grasas</td>      <th>  R-squared:         </th> <td>   0.701</td>\n",
       "</tr>\n",
       "<tr>\n",
       "  <th>Model:</th>                   <td>OLS</td>       <th>  Adj. R-squared:    </th> <td>   0.688</td>\n",
       "</tr>\n",
       "<tr>\n",
       "  <th>Method:</th>             <td>Least Squares</td>  <th>  F-statistic:       </th> <td>   53.96</td>\n",
       "</tr>\n",
       "<tr>\n",
       "  <th>Date:</th>             <td>Mon, 02 May 2022</td> <th>  Prob (F-statistic):</th> <td>1.79e-07</td>\n",
       "</tr>\n",
       "<tr>\n",
       "  <th>Time:</th>                 <td>15:13:20</td>     <th>  Log-Likelihood:    </th> <td> -128.73</td>\n",
       "</tr>\n",
       "<tr>\n",
       "  <th>No. Observations:</th>      <td>    25</td>      <th>  AIC:               </th> <td>   261.5</td>\n",
       "</tr>\n",
       "<tr>\n",
       "  <th>Df Residuals:</th>          <td>    23</td>      <th>  BIC:               </th> <td>   263.9</td>\n",
       "</tr>\n",
       "<tr>\n",
       "  <th>Df Model:</th>              <td>     1</td>      <th>                     </th>     <td> </td>   \n",
       "</tr>\n",
       "<tr>\n",
       "  <th>Covariance Type:</th>      <td>nonrobust</td>    <th>                     </th>     <td> </td>   \n",
       "</tr>\n",
       "</table>\n",
       "<table class=\"simpletable\">\n",
       "<tr>\n",
       "      <td></td>         <th>coef</th>     <th>std err</th>      <th>t</th>      <th>P>|t|</th>  <th>[0.025</th>    <th>0.975]</th>  \n",
       "</tr>\n",
       "<tr>\n",
       "  <th>Intercept</th> <td>  102.5751</td> <td>   29.638</td> <td>    3.461</td> <td> 0.002</td> <td>   41.265</td> <td>  163.885</td>\n",
       "</tr>\n",
       "<tr>\n",
       "  <th>edad</th>      <td>    5.3207</td> <td>    0.724</td> <td>    7.346</td> <td> 0.000</td> <td>    3.822</td> <td>    6.819</td>\n",
       "</tr>\n",
       "</table>\n",
       "<table class=\"simpletable\">\n",
       "<tr>\n",
       "  <th>Omnibus:</th>       <td> 1.067</td> <th>  Durbin-Watson:     </th> <td>   1.684</td>\n",
       "</tr>\n",
       "<tr>\n",
       "  <th>Prob(Omnibus):</th> <td> 0.586</td> <th>  Jarque-Bera (JB):  </th> <td>   1.031</td>\n",
       "</tr>\n",
       "<tr>\n",
       "  <th>Skew:</th>          <td> 0.406</td> <th>  Prob(JB):          </th> <td>   0.597</td>\n",
       "</tr>\n",
       "<tr>\n",
       "  <th>Kurtosis:</th>      <td> 2.426</td> <th>  Cond. No.          </th> <td>    140.</td>\n",
       "</tr>\n",
       "</table><br/><br/>Notes:<br/>[1] Standard Errors assume that the covariance matrix of the errors is correctly specified."
      ],
      "text/plain": [
       "<class 'statsmodels.iolib.summary.Summary'>\n",
       "\"\"\"\n",
       "                            OLS Regression Results                            \n",
       "==============================================================================\n",
       "Dep. Variable:                 grasas   R-squared:                       0.701\n",
       "Model:                            OLS   Adj. R-squared:                  0.688\n",
       "Method:                 Least Squares   F-statistic:                     53.96\n",
       "Date:                Mon, 02 May 2022   Prob (F-statistic):           1.79e-07\n",
       "Time:                        15:13:20   Log-Likelihood:                -128.73\n",
       "No. Observations:                  25   AIC:                             261.5\n",
       "Df Residuals:                      23   BIC:                             263.9\n",
       "Df Model:                           1                                         \n",
       "Covariance Type:            nonrobust                                         \n",
       "==============================================================================\n",
       "                 coef    std err          t      P>|t|      [0.025      0.975]\n",
       "------------------------------------------------------------------------------\n",
       "Intercept    102.5751     29.638      3.461      0.002      41.265     163.885\n",
       "edad           5.3207      0.724      7.346      0.000       3.822       6.819\n",
       "==============================================================================\n",
       "Omnibus:                        1.067   Durbin-Watson:                   1.684\n",
       "Prob(Omnibus):                  0.586   Jarque-Bera (JB):                1.031\n",
       "Skew:                           0.406   Prob(JB):                        0.597\n",
       "Kurtosis:                       2.426   Cond. No.                         140.\n",
       "==============================================================================\n",
       "\n",
       "Notes:\n",
       "[1] Standard Errors assume that the covariance matrix of the errors is correctly specified.\n",
       "\"\"\""
      ]
     },
     "execution_count": 25,
     "metadata": {},
     "output_type": "execute_result"
    }
   ],
   "source": [
    "model.summary()"
   ]
  }
 ],
 "metadata": {
  "interpreter": {
   "hash": "cf35f469c63368b90b858ea105aa93302419be368e99453220c14199b638f0e4"
  },
  "kernelspec": {
   "display_name": "Python 3.8.3 ('base')",
   "language": "python",
   "name": "python3"
  },
  "language_info": {
   "codemirror_mode": {
    "name": "ipython",
    "version": 3
   },
   "file_extension": ".py",
   "mimetype": "text/x-python",
   "name": "python",
   "nbconvert_exporter": "python",
   "pygments_lexer": "ipython3",
   "version": "3.8.3"
  },
  "orig_nbformat": 4
 },
 "nbformat": 4,
 "nbformat_minor": 2
}
