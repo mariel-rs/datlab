{
 "cells": [
  {
   "cell_type": "markdown",
   "metadata": {},
   "source": [
    "# Ejercicios"
   ]
  },
  {
   "cell_type": "code",
   "execution_count": 8,
   "metadata": {},
   "outputs": [
    {
     "name": "stdout",
     "output_type": "stream",
     "text": [
      "8.75\n"
     ]
    }
   ],
   "source": [
    "calificaciones = [9, 8, 9.5, 8.5]\n",
    "suma = 0\n",
    "\n",
    "for calif in calificaciones:\n",
    "    suma += calif\n",
    "\n",
    "media = suma/len(calificaciones)\n",
    "print(media)"
   ]
  },
  {
   "cell_type": "code",
   "execution_count": 3,
   "metadata": {},
   "outputs": [],
   "source": [
    "def student_pass(examen_1, examen_2, examen_3):\n",
    "\n",
    "    calificaciones = [examen_1, examen_2, examen_3]\n",
    "    average = sum(calificaciones) / len(calificaciones)\n",
    "    aprobadas = []\n",
    "    #calificaciones.sort()\n",
    "\n",
    "    for calif in calificaciones:\n",
    "        \n",
    "        if calif >= 40:\n",
    "            aprobadas.append(calif)\n",
    "\n",
    "    if (len(aprobadas) == 3) or (len(aprobadas) >= 2 and average > 50):\n",
    "        print(\"Aprobado\")\n",
    "    else:\n",
    "        print(\"No aprobado\")"
   ]
  },
  {
   "cell_type": "code",
   "execution_count": 4,
   "metadata": {},
   "outputs": [
    {
     "name": "stdout",
     "output_type": "stream",
     "text": [
      "No aprobado\n"
     ]
    }
   ],
   "source": [
    "student_pass(70, 50, 30)"
   ]
  },
  {
   "cell_type": "code",
   "execution_count": 5,
   "metadata": {},
   "outputs": [
    {
     "name": "stdout",
     "output_type": "stream",
     "text": [
      "Aprobado\n"
     ]
    }
   ],
   "source": [
    "student_pass(70, 50, 35)"
   ]
  },
  {
   "cell_type": "code",
   "execution_count": 6,
   "metadata": {},
   "outputs": [],
   "source": [
    "def dile_no():\n",
    "\n",
    "    while True:\n",
    "        print(\"¿Desea continuar el programa?\")\n",
    "        respuesta = input().lower()\n",
    "\n",
    "        if respuesta == \"no\":\n",
    "            break"
   ]
  },
  {
   "cell_type": "code",
   "execution_count": 7,
   "metadata": {},
   "outputs": [
    {
     "name": "stdout",
     "output_type": "stream",
     "text": [
      "¿Desea continuar el programa?\n",
      "¿Desea continuar el programa?\n",
      "¿Desea continuar el programa?\n",
      "¿Desea continuar el programa?\n"
     ]
    }
   ],
   "source": [
    "dile_no()"
   ]
  },
  {
   "cell_type": "code",
   "execution_count": 6,
   "metadata": {},
   "outputs": [],
   "source": [
    "def break_loop():\n",
    "    \n",
    "    contador = 0\n",
    "    \n",
    "    while True:\n",
    "        \n",
    "        print(\"¿Deseas terminar el programa? Escribe Si o No\")\n",
    "        respuesta = input()\n",
    "        \n",
    "        # Actualizar el contador\n",
    "        contador += 1\n",
    "        \n",
    "        print(f\"El valor del contador es: {contador}\")\n",
    "\n",
    "        if contador >= 5:\n",
    "            print(\"Ya me ejecuté muchas veces. Voy a descansar.\")\n",
    "            break"
   ]
  },
  {
   "cell_type": "code",
   "execution_count": 7,
   "metadata": {},
   "outputs": [
    {
     "name": "stdout",
     "output_type": "stream",
     "text": [
      "¿Deseas terminar el programa? Escribe Si o No\n",
      "El valor del contador es: 1\n",
      "¿Deseas terminar el programa? Escribe Si o No\n",
      "El valor del contador es: 2\n",
      "¿Deseas terminar el programa? Escribe Si o No\n",
      "El valor del contador es: 3\n",
      "¿Deseas terminar el programa? Escribe Si o No\n",
      "El valor del contador es: 4\n",
      "¿Deseas terminar el programa? Escribe Si o No\n",
      "El valor del contador es: 5\n",
      "Ya me ejecuté muchas veces. Voy a descansar.\n"
     ]
    }
   ],
   "source": [
    "break_loop()"
   ]
  }
 ],
 "metadata": {
  "interpreter": {
   "hash": "cf35f469c63368b90b858ea105aa93302419be368e99453220c14199b638f0e4"
  },
  "kernelspec": {
   "display_name": "Python 3.8.3 ('base')",
   "language": "python",
   "name": "python3"
  },
  "language_info": {
   "codemirror_mode": {
    "name": "ipython",
    "version": 3
   },
   "file_extension": ".py",
   "mimetype": "text/x-python",
   "name": "python",
   "nbconvert_exporter": "python",
   "pygments_lexer": "ipython3",
   "version": "3.8.3"
  },
  "orig_nbformat": 4
 },
 "nbformat": 4,
 "nbformat_minor": 2
}
