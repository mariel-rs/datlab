{
 "cells": [
  {
   "cell_type": "markdown",
   "metadata": {},
   "source": [
    "# Ejercicios"
   ]
  },
  {
   "cell_type": "code",
   "execution_count": 1,
   "metadata": {},
   "outputs": [
    {
     "name": "stdout",
     "output_type": "stream",
     "text": [
      "23\n",
      "<class 'str'>\n",
      "<class 'float'>\n"
     ]
    }
   ],
   "source": [
    "# colegiatura\n",
    "\n",
    "colegiatura = input()\n",
    "print(colegiatura)\n",
    "print(type(colegiatura))\n",
    "colegiatura = float(colegiatura)\n",
    "print(type(colegiatura))"
   ]
  },
  {
   "cell_type": "code",
   "execution_count": 2,
   "metadata": {},
   "outputs": [],
   "source": [
    "str_list = [\"1\", \"2\", \"3\"]\n",
    "mixed_list = [1, 1.0, \"2\", \"Hola\", True, \"True\", [1, 2]]"
   ]
  },
  {
   "cell_type": "code",
   "execution_count": 3,
   "metadata": {},
   "outputs": [
    {
     "name": "stdout",
     "output_type": "stream",
     "text": [
      "[1, 1.0, '2', 'Hola', True, 'True', [1, 2], '3']\n"
     ]
    }
   ],
   "source": [
    "# Agregar el último elemento de la lista str_list a la lista mixed_list\n",
    "mixed_list.append(str_list[-1])\n",
    "print(mixed_list)"
   ]
  },
  {
   "cell_type": "code",
   "execution_count": 4,
   "metadata": {},
   "outputs": [
    {
     "name": "stdout",
     "output_type": "stream",
     "text": [
      "<class 'int'>\n",
      "<class 'list'>\n",
      "<class 'int'>\n"
     ]
    },
    {
     "data": {
      "text/plain": [
       "True"
      ]
     },
     "execution_count": 4,
     "metadata": {},
     "output_type": "execute_result"
    }
   ],
   "source": [
    "# imprimir en pantalla\n",
    "#Tipo de dato del primer elemento de mixed_list\n",
    "print(type(mixed_list[0]))\n",
    "\n",
    "# Elemento con índice 6 de de mixed_list\n",
    "print(type(mixed_list[6]))\n",
    "\n",
    "# Reto Convertir el elemento con índice 1 a tipo int\n",
    "mixed_list[1] = int(mixed_list[1])\n",
    "print(type(mixed_list[0]))\n",
    "\n",
    "# Reto Verificar si los elementos con índices 0 y 1 son del mismo tipo\n",
    "mixed_list[0] == mixed_list[1]"
   ]
  },
  {
   "cell_type": "code",
   "execution_count": 9,
   "metadata": {},
   "outputs": [],
   "source": [
    "# Crear un diccionario llamado estudiante con 3 llaves:\n",
    "estudiante = {\n",
    "    \"id\":  1     ,\n",
    "    \"calificacion_final\": 8\n",
    "}"
   ]
  },
  {
   "cell_type": "code",
   "execution_count": 10,
   "metadata": {},
   "outputs": [
    {
     "name": "stdout",
     "output_type": "stream",
     "text": [
      "{'id': 1, 'calificacion_final': 8}\n"
     ]
    }
   ],
   "source": [
    "print(estudiante)"
   ]
  },
  {
   "cell_type": "code",
   "execution_count": 11,
   "metadata": {},
   "outputs": [],
   "source": [
    "estudiante = {\n",
    "    \"id\":  [1, 2, 3]    ,\n",
    "    \"calificacion_final\": [8 , 9, 7]\n",
    "}"
   ]
  },
  {
   "cell_type": "code",
   "execution_count": 12,
   "metadata": {},
   "outputs": [
    {
     "name": "stdout",
     "output_type": "stream",
     "text": [
      "{'id': [1, 2, 3], 'calificacion_final': [8, 9, 7]}\n"
     ]
    }
   ],
   "source": [
    "print(estudiante)"
   ]
  }
 ],
 "metadata": {
  "interpreter": {
   "hash": "cf35f469c63368b90b858ea105aa93302419be368e99453220c14199b638f0e4"
  },
  "kernelspec": {
   "display_name": "Python 3.8.3 ('base')",
   "language": "python",
   "name": "python3"
  },
  "language_info": {
   "codemirror_mode": {
    "name": "ipython",
    "version": 3
   },
   "file_extension": ".py",
   "mimetype": "text/x-python",
   "name": "python",
   "nbconvert_exporter": "python",
   "pygments_lexer": "ipython3",
   "version": "3.8.3"
  },
  "orig_nbformat": 4
 },
 "nbformat": 4,
 "nbformat_minor": 2
}
